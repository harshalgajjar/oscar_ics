{
 "cells": [
  {
   "cell_type": "code",
   "execution_count": 30,
   "metadata": {},
   "outputs": [],
   "source": [
    "with open('data.txt') as f:\n",
    "    lines = f.readlines()"
   ]
  },
  {
   "cell_type": "code",
   "execution_count": 33,
   "metadata": {},
   "outputs": [],
   "source": [
    "lines=[line.replace(\"\\n\",\"\").replace(\"E-mail\",\"\") for line in lines] #.replace(\"\\t\",\"\")"
   ]
  },
  {
   "cell_type": "code",
   "execution_count": 35,
   "metadata": {},
   "outputs": [
    {
     "data": {
      "text/plain": [
       "['Simulation in Transport - CEE 6632 - A',\n",
       " 'Comp Aesthetics - CS 6497 - A',\n",
       " 'Behavioral Imaging - CS 7626 - A',\n",
       " 'Machine Learning - CS 7641 - A',\n",
       " 'Web Search & Text Mining - CSE 6240 - A',\n",
       " 'Topics in Cog & Brain Sc - PSYC 6040 - A',\n",
       " 'Seminar Cog & Brain - PSYC 8080 - A']"
      ]
     },
     "execution_count": 35,
     "metadata": {},
     "output_type": "execute_result"
    }
   ],
   "source": [
    "courses=lines[0::13]\n",
    "courses"
   ]
  },
  {
   "cell_type": "code",
   "execution_count": 38,
   "metadata": {},
   "outputs": [
    {
     "data": {
      "text/plain": [
       "['Associated Term: Spring 2022',\n",
       " 'Associated Term: Spring 2022',\n",
       " 'Associated Term: Spring 2022',\n",
       " 'Associated Term: Spring 2022',\n",
       " 'Associated Term: Spring 2022',\n",
       " 'Associated Term: Spring 2022',\n",
       " 'Associated Term: Spring 2022']"
      ]
     },
     "execution_count": 38,
     "metadata": {},
     "output_type": "execute_result"
    }
   ],
   "source": [
    "terms=[line.replace(\"\\t\",\" \") for line in lines[1::13]]\n",
    "terms"
   ]
  },
  {
   "cell_type": "code",
   "execution_count": 41,
   "metadata": {},
   "outputs": [
    {
     "data": {
      "text/plain": [
       "['CRN: 31324',\n",
       " 'CRN: 33419',\n",
       " 'CRN: 30793',\n",
       " 'CRN: 24057',\n",
       " 'CRN: 30831',\n",
       " 'CRN: 23302',\n",
       " 'CRN: 27447']"
      ]
     },
     "execution_count": 41,
     "metadata": {},
     "output_type": "execute_result"
    }
   ],
   "source": [
    "CRNs=[line.replace(\"\\t\",\" \") for line in lines[2::13]]\n",
    "CRNs"
   ]
  },
  {
   "cell_type": "code",
   "execution_count": 44,
   "metadata": {},
   "outputs": [
    {
     "data": {
      "text/plain": [
       "['Status: **Registered (Web) on Nov 12, 2021',\n",
       " 'Status: **Registered (Web) on Nov 12, 2021',\n",
       " 'Status: **Registered (Web) on Nov 12, 2021',\n",
       " 'Status: **Registered (Web) on Nov 12, 2021',\n",
       " 'Status: **Registered (Web) on Nov 12, 2021',\n",
       " 'Status: **Registered (Web) on Nov 12, 2021',\n",
       " 'Status: **Registered (Web) on Nov 12, 2021']"
      ]
     },
     "execution_count": 44,
     "metadata": {},
     "output_type": "execute_result"
    }
   ],
   "source": [
    "status = [line.replace(\"\\t\",\" \") for line in lines[3::13]]\n",
    "status"
   ]
  },
  {
   "cell_type": "code",
   "execution_count": 46,
   "metadata": {},
   "outputs": [
    {
     "data": {
      "text/plain": [
       "['Assigned Instructor: Jorge A. Laval',\n",
       " 'Assigned Instructor: Jaroslaw R. Rossignac',\n",
       " 'Assigned Instructor: James M. Rehg',\n",
       " 'Assigned Instructor: Mohammad Mahdi Roozbahani',\n",
       " 'Assigned Instructor: Srijan Kumar',\n",
       " 'Assigned Instructor: Dobromir Rahnev',\n",
       " 'Assigned Instructor: Mark E. Wheeler']"
      ]
     },
     "execution_count": 46,
     "metadata": {},
     "output_type": "execute_result"
    }
   ],
   "source": [
    "profs = [line.replace(\"\\t\",\" \") for line in lines[4::13]]\n",
    "profs"
   ]
  },
  {
   "cell_type": "code",
   "execution_count": 48,
   "metadata": {},
   "outputs": [
    {
     "data": {
      "text/plain": [
       "['Grade Mode: Letter Grade',\n",
       " 'Grade Mode: Letter Grade',\n",
       " 'Grade Mode: Letter Grade',\n",
       " 'Grade Mode: Letter Grade',\n",
       " 'Grade Mode: Letter Grade',\n",
       " 'Grade Mode: Letter Grade',\n",
       " 'Grade Mode: Letter Grade']"
      ]
     },
     "execution_count": 48,
     "metadata": {},
     "output_type": "execute_result"
    }
   ],
   "source": [
    "gradeModes = [line.replace(\"\\t\",\" \") for line in lines[5::13]]\n",
    "gradeModes"
   ]
  },
  {
   "cell_type": "code",
   "execution_count": 50,
   "metadata": {},
   "outputs": [
    {
     "data": {
      "text/plain": [
       "['Credits: 3.000',\n",
       " 'Credits: 3.000',\n",
       " 'Credits: 3.000',\n",
       " 'Credits: 3.000',\n",
       " 'Credits: 3.000',\n",
       " 'Credits: 1.000',\n",
       " 'Credits: 3.000']"
      ]
     },
     "execution_count": 50,
     "metadata": {},
     "output_type": "execute_result"
    }
   ],
   "source": [
    "credits = [line.replace(\"\\t\",\" \") for line in lines[6::13]]\n",
    "credits"
   ]
  },
  {
   "cell_type": "code",
   "execution_count": 52,
   "metadata": {},
   "outputs": [
    {
     "data": {
      "text/plain": [
       "['Level: Graduate Semester',\n",
       " 'Level: Graduate Semester',\n",
       " 'Level: Graduate Semester',\n",
       " 'Level: Graduate Semester',\n",
       " 'Level: Graduate Semester',\n",
       " 'Level: Graduate Semester',\n",
       " 'Level: Graduate Semester']"
      ]
     },
     "execution_count": 52,
     "metadata": {},
     "output_type": "execute_result"
    }
   ],
   "source": [
    "levels = [line.replace(\"\\t\",\" \") for line in lines[7::13]]\n",
    "levels"
   ]
  },
  {
   "cell_type": "code",
   "execution_count": 54,
   "metadata": {},
   "outputs": [
    {
     "data": {
      "text/plain": [
       "['Campus: Georgia Tech-Atlanta *',\n",
       " 'Campus: Georgia Tech-Atlanta *',\n",
       " 'Campus: Georgia Tech-Atlanta *',\n",
       " 'Campus: Georgia Tech-Atlanta *',\n",
       " 'Campus: Georgia Tech-Atlanta *',\n",
       " 'Campus: Georgia Tech-Atlanta *',\n",
       " 'Campus: Georgia Tech-Atlanta *']"
      ]
     },
     "execution_count": 54,
     "metadata": {},
     "output_type": "execute_result"
    }
   ],
   "source": [
    "campus = [line.replace(\"\\t\",\" \") for line in lines[8::13]]\n",
    "campus"
   ]
  },
  {
   "cell_type": "code",
   "execution_count": 57,
   "metadata": {},
   "outputs": [
    {
     "data": {
      "text/plain": [
       "[['Type',\n",
       "  'Time',\n",
       "  'Days',\n",
       "  'Where',\n",
       "  'Date Range',\n",
       "  'Schedule Type',\n",
       "  'Instructors'],\n",
       " ['Type',\n",
       "  'Time',\n",
       "  'Days',\n",
       "  'Where',\n",
       "  'Date Range',\n",
       "  'Schedule Type',\n",
       "  'Instructors'],\n",
       " ['Type',\n",
       "  'Time',\n",
       "  'Days',\n",
       "  'Where',\n",
       "  'Date Range',\n",
       "  'Schedule Type',\n",
       "  'Instructors'],\n",
       " ['Type',\n",
       "  'Time',\n",
       "  'Days',\n",
       "  'Where',\n",
       "  'Date Range',\n",
       "  'Schedule Type',\n",
       "  'Instructors'],\n",
       " ['Type',\n",
       "  'Time',\n",
       "  'Days',\n",
       "  'Where',\n",
       "  'Date Range',\n",
       "  'Schedule Type',\n",
       "  'Instructors'],\n",
       " ['Type',\n",
       "  'Time',\n",
       "  'Days',\n",
       "  'Where',\n",
       "  'Date Range',\n",
       "  'Schedule Type',\n",
       "  'Instructors'],\n",
       " ['Type',\n",
       "  'Time',\n",
       "  'Days',\n",
       "  'Where',\n",
       "  'Date Range',\n",
       "  'Schedule Type',\n",
       "  'Instructors']]"
      ]
     },
     "execution_count": 57,
     "metadata": {},
     "output_type": "execute_result"
    }
   ],
   "source": [
    "keys=[line.split(\"\\t\") for line in lines[10::13]]\n",
    "keys"
   ]
  },
  {
   "cell_type": "code",
   "execution_count": 58,
   "metadata": {},
   "outputs": [
    {
     "data": {
      "text/plain": [
       "[['Class',\n",
       "  '2:00 pm - 3:15 pm',\n",
       "  'TR',\n",
       "  'Whitaker 1103',\n",
       "  'Jan 10, 2022 - May 05, 2022',\n",
       "  'Lecture*',\n",
       "  'Jorge Andres Laval (P)'],\n",
       " ['Class',\n",
       "  '3:30 pm - 4:45 pm',\n",
       "  'TR',\n",
       "  'Scheller College of Business 200',\n",
       "  'Jan 10, 2022 - May 05, 2022',\n",
       "  'Lecture*',\n",
       "  'Jaroslaw R Rossignac (P)'],\n",
       " ['Class',\n",
       "  '3:30 pm - 4:20 pm',\n",
       "  'MWF',\n",
       "  'Van Leer E283',\n",
       "  'Jan 10, 2022 - May 05, 2022',\n",
       "  'Lecture*',\n",
       "  'James Matthew Rehg (P)'],\n",
       " ['Class',\n",
       "  '12:30 pm - 1:45 pm',\n",
       "  'TR',\n",
       "  'Howey Physics L1',\n",
       "  'Jan 10, 2022 - May 05, 2022',\n",
       "  'Lecture*',\n",
       "  'Mohammad Mahdi Roozbahani (P)'],\n",
       " ['Class',\n",
       "  '5:00 pm - 6:15 pm',\n",
       "  'TR',\n",
       "  'Scheller College of Business 200',\n",
       "  'Jan 10, 2022 - May 05, 2022',\n",
       "  'Lecture*',\n",
       "  'Srijan Kumar (P)'],\n",
       " ['Class',\n",
       "  '12:30 pm - 1:20 pm',\n",
       "  'W',\n",
       "  'J. S. Coon 250',\n",
       "  'Jan 10, 2022 - May 05, 2022',\n",
       "  'Lecture*',\n",
       "  'Dobromir Rahnev (P)'],\n",
       " ['Class',\n",
       "  '2:00 pm - 3:15 pm',\n",
       "  'MW',\n",
       "  'J. S. Coon 148',\n",
       "  'Jan 10, 2022 - May 05, 2022',\n",
       "  'Lecture*',\n",
       "  'Mark Edward Wheeler (P)']]"
      ]
     },
     "execution_count": 58,
     "metadata": {},
     "output_type": "execute_result"
    }
   ],
   "source": [
    "values=[line.split(\"\\t\") for line in lines[11::13]]\n",
    "values"
   ]
  },
  {
   "cell_type": "code",
   "execution_count": 67,
   "metadata": {},
   "outputs": [
    {
     "data": {
      "text/plain": [
       "['Lecture*',\n",
       " 'Lecture*',\n",
       " 'Lecture*',\n",
       " 'Lecture*',\n",
       " 'Lecture*',\n",
       " 'Lecture*',\n",
       " 'Lecture*']"
      ]
     },
     "execution_count": 67,
     "metadata": {},
     "output_type": "execute_result"
    }
   ],
   "source": [
    "[v[-2] for v in values]"
   ]
  },
  {
   "cell_type": "code",
   "execution_count": 66,
   "metadata": {},
   "outputs": [
    {
     "data": {
      "text/plain": [
       "['Class',\n",
       " '2:00 pm - 3:15 pm',\n",
       " 'TR',\n",
       " 'Whitaker 1103',\n",
       " 'Jan 10, 2022 - May 05, 2022',\n",
       " 'Lecture*',\n",
       " 'Jorge Andres Laval (P)']"
      ]
     },
     "execution_count": 66,
     "metadata": {},
     "output_type": "execute_result"
    }
   ],
   "source": [
    "values[0]"
   ]
  },
  {
   "cell_type": "code",
   "execution_count": 59,
   "metadata": {},
   "outputs": [],
   "source": [
    "import datetime"
   ]
  },
  {
   "cell_type": "code",
   "execution_count": 121,
   "metadata": {},
   "outputs": [],
   "source": [
    "from dateutil import parser"
   ]
  },
  {
   "cell_type": "code",
   "execution_count": 139,
   "metadata": {},
   "outputs": [
    {
     "data": {
      "text/plain": [
       "datetime.timedelta(days=1)"
      ]
     },
     "execution_count": 139,
     "metadata": {},
     "output_type": "execute_result"
    }
   ],
   "source": [
    "datetime.timedelta(days=1)"
   ]
  },
  {
   "cell_type": "code",
   "execution_count": 142,
   "metadata": {},
   "outputs": [
    {
     "data": {
      "text/plain": [
       "datetime.datetime(2022, 1, 10, 14, 0)"
      ]
     },
     "execution_count": 142,
     "metadata": {},
     "output_type": "execute_result"
    }
   ],
   "source": [
    "parser.parse(firstStart)"
   ]
  },
  {
   "cell_type": "code",
   "execution_count": 136,
   "metadata": {},
   "outputs": [
    {
     "data": {
      "text/plain": [
       "'1'"
      ]
     },
     "execution_count": 136,
     "metadata": {},
     "output_type": "execute_result"
    }
   ],
   "source": [
    "parser.parse(firstStart).strftime(\"%w\")"
   ]
  },
  {
   "cell_type": "code",
   "execution_count": 173,
   "metadata": {},
   "outputs": [],
   "source": [
    "def getDays(daysString):\n",
    "    return [str(int(d)+1) for d in daysString.replace(\"M\",\"0\").replace(\"T\",\"1\").replace(\"W\",\"2\").replace(\"R\",\"3\").replace(\"F\",\"4\")]"
   ]
  },
  {
   "cell_type": "code",
   "execution_count": 174,
   "metadata": {},
   "outputs": [
    {
     "data": {
      "text/plain": [
       "['2', '4']"
      ]
     },
     "execution_count": 174,
     "metadata": {},
     "output_type": "execute_result"
    }
   ],
   "source": [
    "getDays(values[0][2])"
   ]
  },
  {
   "cell_type": "code",
   "execution_count": 175,
   "metadata": {},
   "outputs": [
    {
     "data": {
      "text/plain": [
       "['Class',\n",
       " '2:00 pm - 3:15 pm',\n",
       " 'TR',\n",
       " 'Whitaker 1103',\n",
       " 'Jan 10, 2022 - May 05, 2022',\n",
       " 'Lecture*',\n",
       " 'Jorge Andres Laval (P)']"
      ]
     },
     "execution_count": 175,
     "metadata": {},
     "output_type": "execute_result"
    }
   ],
   "source": [
    "values[0]"
   ]
  },
  {
   "cell_type": "code",
   "execution_count": 182,
   "metadata": {},
   "outputs": [
    {
     "data": {
      "text/plain": [
       "'3:15 pm Jan 10, 2022'"
      ]
     },
     "execution_count": 182,
     "metadata": {},
     "output_type": "execute_result"
    }
   ],
   "source": [
    "values[0][1].split(\"-\")[1].strip()+\" \"+values[0][4].split(\"-\")[0].strip()"
   ]
  },
  {
   "cell_type": "code",
   "execution_count": 329,
   "metadata": {},
   "outputs": [],
   "source": [
    "def formattedDate(dateObj):\n",
    "    return datetime.datetime.strftime(dateObj, \"%Y%m%dT%H%M%S\")"
   ]
  },
  {
   "cell_type": "code",
   "execution_count": 330,
   "metadata": {},
   "outputs": [
    {
     "data": {
      "text/plain": [
       "datetime.datetime(2022, 1, 11, 14, 0)"
      ]
     },
     "execution_count": 330,
     "metadata": {},
     "output_type": "execute_result"
    }
   ],
   "source": [
    "firstStart=values[0][1].split(\"-\")[0].strip()+\" \"+values[0][4].split(\"-\")[0].strip()\n",
    "firstStart=parser.parse(firstStart)\n",
    "# print(firstStart.strftime(\"%w\"))\n",
    "\n",
    "while(firstStart.strftime(\"%w\") not in getDays(values[0][2])):\n",
    "    # print(firstStart.strftime(\"%w\"))\n",
    "    firstStart+=datetime.timedelta(days=1)\n",
    "\n",
    "firstStart"
   ]
  },
  {
   "cell_type": "code",
   "execution_count": 331,
   "metadata": {},
   "outputs": [
    {
     "ename": "TypeError",
     "evalue": "Parser must be a string or character stream, not datetime",
     "output_type": "error",
     "traceback": [
      "\u001b[0;31m---------------------------------------------------------------------------\u001b[0m",
      "\u001b[0;31mTypeError\u001b[0m                                 Traceback (most recent call last)",
      "\u001b[0;32m/var/folders/kq/54p6r0md3bd7kt5qpp_rtxxm0000gn/T/ipykernel_53971/2048848592.py\u001b[0m in \u001b[0;36m<module>\u001b[0;34m\u001b[0m\n\u001b[1;32m      2\u001b[0m \u001b[0mfirstEnd\u001b[0m\u001b[0;34m=\u001b[0m\u001b[0mvalues\u001b[0m\u001b[0;34m[\u001b[0m\u001b[0;36m0\u001b[0m\u001b[0;34m]\u001b[0m\u001b[0;34m[\u001b[0m\u001b[0;36m1\u001b[0m\u001b[0;34m]\u001b[0m\u001b[0;34m.\u001b[0m\u001b[0msplit\u001b[0m\u001b[0;34m(\u001b[0m\u001b[0;34m\"-\"\u001b[0m\u001b[0;34m)\u001b[0m\u001b[0;34m[\u001b[0m\u001b[0;36m1\u001b[0m\u001b[0;34m]\u001b[0m\u001b[0;34m.\u001b[0m\u001b[0mstrip\u001b[0m\u001b[0;34m(\u001b[0m\u001b[0;34m)\u001b[0m\u001b[0;34m+\u001b[0m\u001b[0;34m\" \"\u001b[0m\u001b[0;34m+\u001b[0m\u001b[0mvalues\u001b[0m\u001b[0;34m[\u001b[0m\u001b[0;36m0\u001b[0m\u001b[0;34m]\u001b[0m\u001b[0;34m[\u001b[0m\u001b[0;36m4\u001b[0m\u001b[0;34m]\u001b[0m\u001b[0;34m.\u001b[0m\u001b[0msplit\u001b[0m\u001b[0;34m(\u001b[0m\u001b[0;34m\"-\"\u001b[0m\u001b[0;34m)\u001b[0m\u001b[0;34m[\u001b[0m\u001b[0;36m0\u001b[0m\u001b[0;34m]\u001b[0m\u001b[0;34m.\u001b[0m\u001b[0mstrip\u001b[0m\u001b[0;34m(\u001b[0m\u001b[0;34m)\u001b[0m\u001b[0;34m\u001b[0m\u001b[0;34m\u001b[0m\u001b[0m\n\u001b[1;32m      3\u001b[0m \u001b[0mfirstStart\u001b[0m\u001b[0;34m=\u001b[0m\u001b[0mparser\u001b[0m\u001b[0;34m.\u001b[0m\u001b[0mparse\u001b[0m\u001b[0;34m(\u001b[0m\u001b[0mfirstStart\u001b[0m\u001b[0;34m)\u001b[0m\u001b[0;34m\u001b[0m\u001b[0;34m\u001b[0m\u001b[0m\n\u001b[0;32m----> 4\u001b[0;31m \u001b[0mfirstStart\u001b[0m\u001b[0;34m=\u001b[0m\u001b[0mparser\u001b[0m\u001b[0;34m.\u001b[0m\u001b[0mparse\u001b[0m\u001b[0;34m(\u001b[0m\u001b[0mfirstStart\u001b[0m\u001b[0;34m)\u001b[0m\u001b[0;34m\u001b[0m\u001b[0;34m\u001b[0m\u001b[0m\n\u001b[0m\u001b[1;32m      5\u001b[0m \u001b[0mdaysPending\u001b[0m\u001b[0;34m=\u001b[0m\u001b[0mgetDays\u001b[0m\u001b[0;34m(\u001b[0m\u001b[0mvalues\u001b[0m\u001b[0;34m[\u001b[0m\u001b[0;36m0\u001b[0m\u001b[0;34m]\u001b[0m\u001b[0;34m[\u001b[0m\u001b[0;36m2\u001b[0m\u001b[0;34m]\u001b[0m\u001b[0;34m)\u001b[0m\u001b[0;34m\u001b[0m\u001b[0;34m\u001b[0m\u001b[0m\n\u001b[1;32m      6\u001b[0m \u001b[0;34m\u001b[0m\u001b[0m\n",
      "\u001b[0;32m~/.pyenv/versions/3.9.7/envs/explore/lib/python3.9/site-packages/dateutil/parser/_parser.py\u001b[0m in \u001b[0;36mparse\u001b[0;34m(timestr, parserinfo, **kwargs)\u001b[0m\n\u001b[1;32m   1366\u001b[0m         \u001b[0;32mreturn\u001b[0m \u001b[0mparser\u001b[0m\u001b[0;34m(\u001b[0m\u001b[0mparserinfo\u001b[0m\u001b[0;34m)\u001b[0m\u001b[0;34m.\u001b[0m\u001b[0mparse\u001b[0m\u001b[0;34m(\u001b[0m\u001b[0mtimestr\u001b[0m\u001b[0;34m,\u001b[0m \u001b[0;34m**\u001b[0m\u001b[0mkwargs\u001b[0m\u001b[0;34m)\u001b[0m\u001b[0;34m\u001b[0m\u001b[0;34m\u001b[0m\u001b[0m\n\u001b[1;32m   1367\u001b[0m     \u001b[0;32melse\u001b[0m\u001b[0;34m:\u001b[0m\u001b[0;34m\u001b[0m\u001b[0;34m\u001b[0m\u001b[0m\n\u001b[0;32m-> 1368\u001b[0;31m         \u001b[0;32mreturn\u001b[0m \u001b[0mDEFAULTPARSER\u001b[0m\u001b[0;34m.\u001b[0m\u001b[0mparse\u001b[0m\u001b[0;34m(\u001b[0m\u001b[0mtimestr\u001b[0m\u001b[0;34m,\u001b[0m \u001b[0;34m**\u001b[0m\u001b[0mkwargs\u001b[0m\u001b[0;34m)\u001b[0m\u001b[0;34m\u001b[0m\u001b[0;34m\u001b[0m\u001b[0m\n\u001b[0m\u001b[1;32m   1369\u001b[0m \u001b[0;34m\u001b[0m\u001b[0m\n\u001b[1;32m   1370\u001b[0m \u001b[0;34m\u001b[0m\u001b[0m\n",
      "\u001b[0;32m~/.pyenv/versions/3.9.7/envs/explore/lib/python3.9/site-packages/dateutil/parser/_parser.py\u001b[0m in \u001b[0;36mparse\u001b[0;34m(self, timestr, default, ignoretz, tzinfos, **kwargs)\u001b[0m\n\u001b[1;32m    638\u001b[0m                                                       second=0, microsecond=0)\n\u001b[1;32m    639\u001b[0m \u001b[0;34m\u001b[0m\u001b[0m\n\u001b[0;32m--> 640\u001b[0;31m         \u001b[0mres\u001b[0m\u001b[0;34m,\u001b[0m \u001b[0mskipped_tokens\u001b[0m \u001b[0;34m=\u001b[0m \u001b[0mself\u001b[0m\u001b[0;34m.\u001b[0m\u001b[0m_parse\u001b[0m\u001b[0;34m(\u001b[0m\u001b[0mtimestr\u001b[0m\u001b[0;34m,\u001b[0m \u001b[0;34m**\u001b[0m\u001b[0mkwargs\u001b[0m\u001b[0;34m)\u001b[0m\u001b[0;34m\u001b[0m\u001b[0;34m\u001b[0m\u001b[0m\n\u001b[0m\u001b[1;32m    641\u001b[0m \u001b[0;34m\u001b[0m\u001b[0m\n\u001b[1;32m    642\u001b[0m         \u001b[0;32mif\u001b[0m \u001b[0mres\u001b[0m \u001b[0;32mis\u001b[0m \u001b[0;32mNone\u001b[0m\u001b[0;34m:\u001b[0m\u001b[0;34m\u001b[0m\u001b[0;34m\u001b[0m\u001b[0m\n",
      "\u001b[0;32m~/.pyenv/versions/3.9.7/envs/explore/lib/python3.9/site-packages/dateutil/parser/_parser.py\u001b[0m in \u001b[0;36m_parse\u001b[0;34m(self, timestr, dayfirst, yearfirst, fuzzy, fuzzy_with_tokens)\u001b[0m\n\u001b[1;32m    717\u001b[0m \u001b[0;34m\u001b[0m\u001b[0m\n\u001b[1;32m    718\u001b[0m         \u001b[0mres\u001b[0m \u001b[0;34m=\u001b[0m \u001b[0mself\u001b[0m\u001b[0;34m.\u001b[0m\u001b[0m_result\u001b[0m\u001b[0;34m(\u001b[0m\u001b[0;34m)\u001b[0m\u001b[0;34m\u001b[0m\u001b[0;34m\u001b[0m\u001b[0m\n\u001b[0;32m--> 719\u001b[0;31m         \u001b[0ml\u001b[0m \u001b[0;34m=\u001b[0m \u001b[0m_timelex\u001b[0m\u001b[0;34m.\u001b[0m\u001b[0msplit\u001b[0m\u001b[0;34m(\u001b[0m\u001b[0mtimestr\u001b[0m\u001b[0;34m)\u001b[0m         \u001b[0;31m# Splits the timestr into tokens\u001b[0m\u001b[0;34m\u001b[0m\u001b[0;34m\u001b[0m\u001b[0m\n\u001b[0m\u001b[1;32m    720\u001b[0m \u001b[0;34m\u001b[0m\u001b[0m\n\u001b[1;32m    721\u001b[0m         \u001b[0mskipped_idxs\u001b[0m \u001b[0;34m=\u001b[0m \u001b[0;34m[\u001b[0m\u001b[0;34m]\u001b[0m\u001b[0;34m\u001b[0m\u001b[0;34m\u001b[0m\u001b[0m\n",
      "\u001b[0;32m~/.pyenv/versions/3.9.7/envs/explore/lib/python3.9/site-packages/dateutil/parser/_parser.py\u001b[0m in \u001b[0;36msplit\u001b[0;34m(cls, s)\u001b[0m\n\u001b[1;32m    199\u001b[0m     \u001b[0;34m@\u001b[0m\u001b[0mclassmethod\u001b[0m\u001b[0;34m\u001b[0m\u001b[0;34m\u001b[0m\u001b[0m\n\u001b[1;32m    200\u001b[0m     \u001b[0;32mdef\u001b[0m \u001b[0msplit\u001b[0m\u001b[0;34m(\u001b[0m\u001b[0mcls\u001b[0m\u001b[0;34m,\u001b[0m \u001b[0ms\u001b[0m\u001b[0;34m)\u001b[0m\u001b[0;34m:\u001b[0m\u001b[0;34m\u001b[0m\u001b[0;34m\u001b[0m\u001b[0m\n\u001b[0;32m--> 201\u001b[0;31m         \u001b[0;32mreturn\u001b[0m \u001b[0mlist\u001b[0m\u001b[0;34m(\u001b[0m\u001b[0mcls\u001b[0m\u001b[0;34m(\u001b[0m\u001b[0ms\u001b[0m\u001b[0;34m)\u001b[0m\u001b[0;34m)\u001b[0m\u001b[0;34m\u001b[0m\u001b[0;34m\u001b[0m\u001b[0m\n\u001b[0m\u001b[1;32m    202\u001b[0m \u001b[0;34m\u001b[0m\u001b[0m\n\u001b[1;32m    203\u001b[0m     \u001b[0;34m@\u001b[0m\u001b[0mclassmethod\u001b[0m\u001b[0;34m\u001b[0m\u001b[0;34m\u001b[0m\u001b[0m\n",
      "\u001b[0;32m~/.pyenv/versions/3.9.7/envs/explore/lib/python3.9/site-packages/dateutil/parser/_parser.py\u001b[0m in \u001b[0;36m__init__\u001b[0;34m(self, instream)\u001b[0m\n\u001b[1;32m     67\u001b[0m             \u001b[0minstream\u001b[0m \u001b[0;34m=\u001b[0m \u001b[0mStringIO\u001b[0m\u001b[0;34m(\u001b[0m\u001b[0minstream\u001b[0m\u001b[0;34m)\u001b[0m\u001b[0;34m\u001b[0m\u001b[0;34m\u001b[0m\u001b[0m\n\u001b[1;32m     68\u001b[0m         \u001b[0;32melif\u001b[0m \u001b[0mgetattr\u001b[0m\u001b[0;34m(\u001b[0m\u001b[0minstream\u001b[0m\u001b[0;34m,\u001b[0m \u001b[0;34m'read'\u001b[0m\u001b[0;34m,\u001b[0m \u001b[0;32mNone\u001b[0m\u001b[0;34m)\u001b[0m \u001b[0;32mis\u001b[0m \u001b[0;32mNone\u001b[0m\u001b[0;34m:\u001b[0m\u001b[0;34m\u001b[0m\u001b[0;34m\u001b[0m\u001b[0m\n\u001b[0;32m---> 69\u001b[0;31m             raise TypeError('Parser must be a string or character stream, not '\n\u001b[0m\u001b[1;32m     70\u001b[0m                             '{itype}'.format(itype=instream.__class__.__name__))\n\u001b[1;32m     71\u001b[0m \u001b[0;34m\u001b[0m\u001b[0m\n",
      "\u001b[0;31mTypeError\u001b[0m: Parser must be a string or character stream, not datetime"
     ]
    }
   ],
   "source": [
    "firstStart=values[0][1].split(\"-\")[0].strip()+\" \"+values[0][4].split(\"-\")[0].strip()\n",
    "firstEnd=values[0][1].split(\"-\")[1].strip()+\" \"+values[0][4].split(\"-\")[0].strip()\n",
    "firstStart=parser.parse(firstStart)\n",
    "firstStart=parser.parse(firstStart)\n",
    "daysPending=getDays(values[0][2])\n",
    "\n",
    "starts=[]\n",
    "\n",
    "for i in range(7):\n",
    "    if(firstStart.strftime(\"%w\") in daysPending):\n",
    "        starts.append((firstStart, firstEnd))\n",
    "    firstStart+=datetime.timedelta(days=1)\n",
    "    firstEnd+=datetime.timedelta(days=1)\n",
    "\n",
    "starts"
   ]
  },
  {
   "cell_type": "code",
   "execution_count": 332,
   "metadata": {},
   "outputs": [
    {
     "data": {
      "text/plain": [
       "'20220110T140000'"
      ]
     },
     "execution_count": 332,
     "metadata": {},
     "output_type": "execute_result"
    }
   ],
   "source": [
    "datetime.datetime.strftime(firstStart, \"%Y%m%dT%H%M%S\")"
   ]
  },
  {
   "cell_type": "code",
   "execution_count": 333,
   "metadata": {},
   "outputs": [
    {
     "ename": "SyntaxError",
     "evalue": "invalid syntax (2213597901.py, line 1)",
     "output_type": "error",
     "traceback": [
      "\u001b[0;36m  File \u001b[0;32m\"/var/folders/kq/54p6r0md3bd7kt5qpp_rtxxm0000gn/T/ipykernel_53971/2213597901.py\"\u001b[0;36m, line \u001b[0;32m1\u001b[0m\n\u001b[0;31m    19980119T070000Z\u001b[0m\n\u001b[0m            ^\u001b[0m\n\u001b[0;31mSyntaxError\u001b[0m\u001b[0;31m:\u001b[0m invalid syntax\n"
     ]
    }
   ],
   "source": [
    "19980119T070000Z"
   ]
  },
  {
   "cell_type": "code",
   "execution_count": 334,
   "metadata": {},
   "outputs": [
    {
     "ename": "SyntaxError",
     "evalue": "invalid syntax (4263210132.py, line 1)",
     "output_type": "error",
     "traceback": [
      "\u001b[0;36m  File \u001b[0;32m\"/var/folders/kq/54p6r0md3bd7kt5qpp_rtxxm0000gn/T/ipykernel_53971/4263210132.py\"\u001b[0;36m, line \u001b[0;32m1\u001b[0m\n\u001b[0;31m    DTSTART;TZID=America/New_York:20220117T140000\u001b[0m\n\u001b[0m                                 ^\u001b[0m\n\u001b[0;31mSyntaxError\u001b[0m\u001b[0;31m:\u001b[0m invalid syntax\n"
     ]
    }
   ],
   "source": [
    "DTSTART;TZID=America/New_York:20220117T140000\n",
    "RRULE:FREQ=YEARLY;UNTIL=20230117T140000Z; BYMONTH=1;BYDAY=SU,MO,TU,WE,TH,FR,SA"
   ]
  },
  {
   "cell_type": "code",
   "execution_count": null,
   "metadata": {},
   "outputs": [],
   "source": []
  },
  {
   "cell_type": "code",
   "execution_count": 107,
   "metadata": {},
   "outputs": [],
   "source": [
    "import uuid"
   ]
  },
  {
   "cell_type": "code",
   "execution_count": 115,
   "metadata": {},
   "outputs": [
    {
     "data": {
      "text/plain": [
       "'82ee6380-70a6-11ec-b26a-acde48001122'"
      ]
     },
     "execution_count": 115,
     "metadata": {},
     "output_type": "execute_result"
    }
   ],
   "source": [
    "uuid.uuid1().__str__()"
   ]
  },
  {
   "cell_type": "code",
   "execution_count": 335,
   "metadata": {},
   "outputs": [
    {
     "data": {
      "text/plain": [
       "'20220110T140000'"
      ]
     },
     "execution_count": 335,
     "metadata": {},
     "output_type": "execute_result"
    }
   ],
   "source": [
    "formattedDate(firstStart)"
   ]
  },
  {
   "cell_type": "code",
   "execution_count": 271,
   "metadata": {},
   "outputs": [],
   "source": [
    "def getDaysICS(days):\n",
    "    # SU,MO,TU,WE,TH,FR,SA\n",
    "    return \",\".join([d.replace(\"M\",\"MO\").replace(\"T\",\"TU\").replace(\"W\",\"WE\").replace(\"R\",\"TH\").replace(\"F\",\"FR\") for d in days])"
   ]
  },
  {
   "cell_type": "code",
   "execution_count": 209,
   "metadata": {},
   "outputs": [
    {
     "data": {
      "text/plain": [
       "datetime.datetime(2022, 5, 5, 0, 0)"
      ]
     },
     "execution_count": 209,
     "metadata": {},
     "output_type": "execute_result"
    }
   ],
   "source": [
    "parser.parse(values[0][4].split(\"-\")[1].strip())"
   ]
  },
  {
   "cell_type": "code",
   "execution_count": 267,
   "metadata": {},
   "outputs": [
    {
     "data": {
      "text/plain": [
       "'TU,TH'"
      ]
     },
     "execution_count": 267,
     "metadata": {},
     "output_type": "execute_result"
    }
   ],
   "source": [
    "getDaysICS(values[0][2])"
   ]
  },
  {
   "cell_type": "code",
   "execution_count": 212,
   "metadata": {},
   "outputs": [
    {
     "data": {
      "text/plain": [
       "['T', 'R']"
      ]
     },
     "execution_count": 212,
     "metadata": {},
     "output_type": "execute_result"
    }
   ],
   "source": [
    "# SU,MO,TU,WE,TH,FR,SA\n",
    "[d.replace(\"M\",\"MO\").replace(\"T\",\"TU\").replace(\"W\",\"WE\").replace(\"R\",\"TH\").replace(\"F\",\"FR\") for d in values[0][2]]"
   ]
  },
  {
   "cell_type": "code",
   "execution_count": null,
   "metadata": {},
   "outputs": [],
   "source": [
    "getDays()"
   ]
  },
  {
   "cell_type": "code",
   "execution_count": 221,
   "metadata": {},
   "outputs": [
    {
     "data": {
      "text/plain": [
       "'Associated Term: Spring 2022\\nCRN: 31324\\nStatus: **Registered (Web) on Nov 12, 2021\\nAssigned Instructor: Jorge A. Laval\\nGrade Mode: Letter Grade\\nCredits: 3.000\\nLevel: Graduate Semester\\nCampus: Georgia Tech-Atlanta *'"
      ]
     },
     "execution_count": 221,
     "metadata": {},
     "output_type": "execute_result"
    }
   ],
   "source": [
    "\"\\n\".join([a[0] for a in [terms, CRNs, status, profs, gradeModes, credits, levels, campus]])"
   ]
  },
  {
   "cell_type": "code",
   "execution_count": 240,
   "metadata": {},
   "outputs": [
    {
     "data": {
      "text/plain": [
       "(datetime.datetime(2022, 1, 11, 14, 0), datetime.datetime(2022, 1, 11, 15, 15))"
      ]
     },
     "execution_count": 240,
     "metadata": {},
     "output_type": "execute_result"
    }
   ],
   "source": [
    "firstStart, firstEnd"
   ]
  },
  {
   "cell_type": "code",
   "execution_count": 297,
   "metadata": {},
   "outputs": [],
   "source": [
    "import re"
   ]
  },
  {
   "cell_type": "code",
   "execution_count": 336,
   "metadata": {},
   "outputs": [],
   "source": [
    "eventInfos=[]\n",
    "\n",
    "for i in range(len(courses)):\n",
    "\n",
    "    eventInfo={}\n",
    "\n",
    "    firstStart=values[i][1].split(\"-\")[0].strip()+\" \"+values[i][4].split(\"-\")[0].strip()\n",
    "    firstEnd=values[i][1].split(\"-\")[1].strip()+\" \"+values[i][4].split(\"-\")[0].strip()\n",
    "    # print(firstStart, firstEnd)\n",
    "    firstStart=parser.parse(firstStart)\n",
    "    firstEnd=parser.parse(firstEnd)\n",
    "    # print(firstStart.strftime(\"%w\"))\n",
    "\n",
    "    while(firstStart.strftime(\"%w\") not in getDays(values[i][2])):\n",
    "        # print(firstStart.strftime(\"%w\"))\n",
    "        firstStart+=datetime.timedelta(days=1)\n",
    "        firstEnd+=datetime.timedelta(days=1)\n",
    "\n",
    "    courseTill=parser.parse(values[i][4].split(\"-\")[1].strip())\n",
    "\n",
    "    eventInfo[\"SUMMARY\"] = courses[i]\n",
    "    eventInfo[\"UID\"] = uuid.uuid1().__str__()\n",
    "    eventInfo[\"LOCATION\"]=values[i][3]\n",
    "    eventInfo[\"DTSTART;TZID=America/New_York\"]=formattedDate(firstStart)\n",
    "    eventInfo[\"DTEND;TZID=America/New_York\"]=formattedDate(firstEnd)\n",
    "    eventInfo[\"RRULE\"]=\"FREQ=WEEKLY;UNTIL=\"+formattedDate(courseTill)+\";BYDAY=\"+getDaysICS(values[i][2])\n",
    "    eventInfo[\"DESCRIPTION\"]=(\", \".join([re.sub('[^A-Za-z0-9 -]+', '', a[i].replace(\":\",\" -\")) for a in [terms, CRNs, status, profs, gradeModes, credits, levels, campus]]))\n",
    "\n",
    "    eventInfos.append(eventInfo)\n",
    "    "
   ]
  },
  {
   "cell_type": "code",
   "execution_count": 337,
   "metadata": {},
   "outputs": [
    {
     "data": {
      "text/plain": [
       "{'SUMMARY': 'Simulation in Transport - CEE 6632 - A',\n",
       " 'UID': '7e333fe0-70b6-11ec-b26a-acde48001122',\n",
       " 'LOCATION': 'Whitaker 1103',\n",
       " 'DTSTART;TZID=America/New_York': '20220111T140000',\n",
       " 'DTEND;TZID=America/New_York': '20220111T151500',\n",
       " 'RRULE': 'FREQ=WEEKLY;UNTIL=20220505T000000;BYDAY=TU,TH',\n",
       " 'DESCRIPTION': 'Associated Term - Spring 2022, CRN - 31324, Status - Registered Web on Nov 12 2021, Assigned Instructor - Jorge A Laval, Grade Mode - Letter Grade, Credits - 3000, Level - Graduate Semester, Campus - Georgia Tech-Atlanta '}"
      ]
     },
     "execution_count": 337,
     "metadata": {},
     "output_type": "execute_result"
    }
   ],
   "source": [
    "eventInfos[0]"
   ]
  },
  {
   "cell_type": "code",
   "execution_count": 338,
   "metadata": {},
   "outputs": [
    {
     "data": {
      "text/plain": [
       "['BEGIN:VCALENDAR',\n",
       " 'VERSION:2.0',\n",
       " 'PRODID:harshalgajjar.com',\n",
       " 'BEGIN:VEVENT',\n",
       " 'SUMMARY:Simulation in Transport - CEE 6632 - A',\n",
       " 'UID:7e333fe0-70b6-11ec-b26a-acde48001122',\n",
       " 'LOCATION:Whitaker 1103',\n",
       " 'DTSTART;TZID=America/New_York:20220111T140000',\n",
       " 'DTEND;TZID=America/New_York:20220111T151500',\n",
       " 'RRULE:FREQ=WEEKLY;UNTIL=20220505T000000;BYDAY=TU,TH',\n",
       " 'DESCRIPTION:Associated Term - Spring 2022, CRN - 31324, Status - Registered Web on Nov 12 2021, Assigned Instructor - Jorge A Laval, Grade Mode - Letter Grade, Credits - 3000, Level - Graduate Semester, Campus - Georgia Tech-Atlanta ',\n",
       " 'END:VEVENT',\n",
       " 'BEGIN:VEVENT',\n",
       " 'SUMMARY:Comp Aesthetics - CS 6497 - A',\n",
       " 'UID:7e335912-70b6-11ec-b26a-acde48001122',\n",
       " 'LOCATION:Scheller College of Business 200',\n",
       " 'DTSTART;TZID=America/New_York:20220111T153000',\n",
       " 'DTEND;TZID=America/New_York:20220111T164500',\n",
       " 'RRULE:FREQ=WEEKLY;UNTIL=20220505T000000;BYDAY=TU,TH',\n",
       " 'DESCRIPTION:Associated Term - Spring 2022, CRN - 33419, Status - Registered Web on Nov 12 2021, Assigned Instructor - Jaroslaw R Rossignac, Grade Mode - Letter Grade, Credits - 3000, Level - Graduate Semester, Campus - Georgia Tech-Atlanta ',\n",
       " 'END:VEVENT',\n",
       " 'BEGIN:VEVENT',\n",
       " 'SUMMARY:Behavioral Imaging - CS 7626 - A',\n",
       " 'UID:7e3371fe-70b6-11ec-b26a-acde48001122',\n",
       " 'LOCATION:Van Leer E283',\n",
       " 'DTSTART;TZID=America/New_York:20220110T153000',\n",
       " 'DTEND;TZID=America/New_York:20220110T162000',\n",
       " 'RRULE:FREQ=WEEKLY;UNTIL=20220505T000000;BYDAY=MO,WE,FR',\n",
       " 'DESCRIPTION:Associated Term - Spring 2022, CRN - 30793, Status - Registered Web on Nov 12 2021, Assigned Instructor - James M Rehg, Grade Mode - Letter Grade, Credits - 3000, Level - Graduate Semester, Campus - Georgia Tech-Atlanta ',\n",
       " 'END:VEVENT',\n",
       " 'BEGIN:VEVENT',\n",
       " 'SUMMARY:Machine Learning - CS 7641 - A',\n",
       " 'UID:7e33878e-70b6-11ec-b26a-acde48001122',\n",
       " 'LOCATION:Howey Physics L1',\n",
       " 'DTSTART;TZID=America/New_York:20220111T123000',\n",
       " 'DTEND;TZID=America/New_York:20220111T134500',\n",
       " 'RRULE:FREQ=WEEKLY;UNTIL=20220505T000000;BYDAY=TU,TH',\n",
       " 'DESCRIPTION:Associated Term - Spring 2022, CRN - 24057, Status - Registered Web on Nov 12 2021, Assigned Instructor - Mohammad Mahdi Roozbahani, Grade Mode - Letter Grade, Credits - 3000, Level - Graduate Semester, Campus - Georgia Tech-Atlanta ',\n",
       " 'END:VEVENT',\n",
       " 'BEGIN:VEVENT',\n",
       " 'SUMMARY:Web Search & Text Mining - CSE 6240 - A',\n",
       " 'UID:7e339a3a-70b6-11ec-b26a-acde48001122',\n",
       " 'LOCATION:Scheller College of Business 200',\n",
       " 'DTSTART;TZID=America/New_York:20220111T170000',\n",
       " 'DTEND;TZID=America/New_York:20220111T181500',\n",
       " 'RRULE:FREQ=WEEKLY;UNTIL=20220505T000000;BYDAY=TU,TH',\n",
       " 'DESCRIPTION:Associated Term - Spring 2022, CRN - 30831, Status - Registered Web on Nov 12 2021, Assigned Instructor - Srijan Kumar, Grade Mode - Letter Grade, Credits - 3000, Level - Graduate Semester, Campus - Georgia Tech-Atlanta ',\n",
       " 'END:VEVENT',\n",
       " 'BEGIN:VEVENT',\n",
       " 'SUMMARY:Topics in Cog & Brain Sc - PSYC 6040 - A',\n",
       " 'UID:7e33ac50-70b6-11ec-b26a-acde48001122',\n",
       " 'LOCATION:J. S. Coon 250',\n",
       " 'DTSTART;TZID=America/New_York:20220112T123000',\n",
       " 'DTEND;TZID=America/New_York:20220112T132000',\n",
       " 'RRULE:FREQ=WEEKLY;UNTIL=20220505T000000;BYDAY=WE',\n",
       " 'DESCRIPTION:Associated Term - Spring 2022, CRN - 23302, Status - Registered Web on Nov 12 2021, Assigned Instructor - Dobromir Rahnev, Grade Mode - Letter Grade, Credits - 1000, Level - Graduate Semester, Campus - Georgia Tech-Atlanta ',\n",
       " 'END:VEVENT',\n",
       " 'BEGIN:VEVENT',\n",
       " 'SUMMARY:Seminar Cog & Brain - PSYC 8080 - A',\n",
       " 'UID:7e33bd44-70b6-11ec-b26a-acde48001122',\n",
       " 'LOCATION:J. S. Coon 148',\n",
       " 'DTSTART;TZID=America/New_York:20220110T140000',\n",
       " 'DTEND;TZID=America/New_York:20220110T151500',\n",
       " 'RRULE:FREQ=WEEKLY;UNTIL=20220505T000000;BYDAY=MO,WE',\n",
       " 'DESCRIPTION:Associated Term - Spring 2022, CRN - 27447, Status - Registered Web on Nov 12 2021, Assigned Instructor - Mark E Wheeler, Grade Mode - Letter Grade, Credits - 3000, Level - Graduate Semester, Campus - Georgia Tech-Atlanta ',\n",
       " 'END:VEVENT',\n",
       " 'END:VCALENDAR']"
      ]
     },
     "execution_count": 338,
     "metadata": {},
     "output_type": "execute_result"
    }
   ],
   "source": [
    "icsLines=[]\n",
    "icsLines.append(\"BEGIN:VCALENDAR\")\n",
    "icsLines.append(\"VERSION:2.0\")\n",
    "icsLines.append(\"PRODID:harshalgajjar.com\")\n",
    "\n",
    "for i in range(len(eventInfos)):\n",
    "    icsLines.append(\"BEGIN:VEVENT\")\n",
    "    for key in eventInfos[i].keys():\n",
    "        icsLines.append(key+\":\"+eventInfos[i][key])\n",
    "\n",
    "    icsLines.append(\"END:VEVENT\")\n",
    "\n",
    "icsLines.append(\"END:VCALENDAR\")\n",
    "\n",
    "icsLines"
   ]
  },
  {
   "cell_type": "code",
   "execution_count": 339,
   "metadata": {},
   "outputs": [],
   "source": [
    "with open('semCal.ics', 'w') as filehandle:\n",
    "    for icsLine in icsLines:\n",
    "        filehandle.write('%s\\n' % icsLine)"
   ]
  },
  {
   "cell_type": "code",
   "execution_count": null,
   "metadata": {},
   "outputs": [],
   "source": []
  }
 ],
 "metadata": {
  "interpreter": {
   "hash": "6c9c4c84f05b1114dd0a6072377e947180d75cb61f7dee11fdb3234ca99869b4"
  },
  "kernelspec": {
   "display_name": "Python 3.9.7 64-bit ('explore': pyenv)",
   "language": "python",
   "name": "python3"
  },
  "language_info": {
   "codemirror_mode": {
    "name": "ipython",
    "version": 3
   },
   "file_extension": ".py",
   "mimetype": "text/x-python",
   "name": "python",
   "nbconvert_exporter": "python",
   "pygments_lexer": "ipython3",
   "version": "3.9.7"
  },
  "orig_nbformat": 4
 },
 "nbformat": 4,
 "nbformat_minor": 2
}
